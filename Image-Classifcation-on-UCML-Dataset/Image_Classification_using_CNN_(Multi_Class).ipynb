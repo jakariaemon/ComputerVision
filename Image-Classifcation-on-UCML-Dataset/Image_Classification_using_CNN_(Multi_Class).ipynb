{
  "nbformat": 4,
  "nbformat_minor": 0,
  "metadata": {
    "colab": {
      "name": "Image Classification using CNN (Multi Class).ipynb",
      "provenance": [],
      "collapsed_sections": []
    },
    "kernelspec": {
      "name": "python3",
      "display_name": "Python 3"
    },
    "language_info": {
      "name": "python"
    },
    "accelerator": "GPU"
  },
  "cells": [
    {
      "cell_type": "code",
      "execution_count": 22,
      "metadata": {
        "id": "0nVea0fqf-PY"
      },
      "outputs": [],
      "source": [
        "import numpy as np\n",
        "import matplotlib.pyplot as plt\n",
        "import os\n",
        "import cv2\n",
        "from tqdm import tqdm"
      ]
    },
    {
      "cell_type": "code",
      "source": [
        "from google.colab import drive\n",
        "drive.mount('/content/drive')"
      ],
      "metadata": {
        "colab": {
          "base_uri": "https://localhost:8080/"
        },
        "id": "ujvgT8sOgFWm",
        "outputId": "6513eeae-7701-42b6-9bf8-5354d4f7cce1"
      },
      "execution_count": 23,
      "outputs": [
        {
          "output_type": "stream",
          "name": "stdout",
          "text": [
            "Drive already mounted at /content/drive; to attempt to forcibly remount, call drive.mount(\"/content/drive\", force_remount=True).\n"
          ]
        }
      ]
    },
    {
      "cell_type": "code",
      "source": [
        "from PIL import Image #import Python Image Library\n",
        "import numpy as np\n",
        "import os\n",
        "import glob\n",
        "import re\n",
        "import keras\n",
        "from keras.models import Sequential\n",
        "from keras.layers import Dense, Dropout, Activation, Flatten\n",
        "from keras.layers import Conv2D, MaxPooling2D\n",
        "from keras.utils import np_utils\n",
        "from keras import backend as K"
      ],
      "metadata": {
        "id": "GkL6nMhfgHqu"
      },
      "execution_count": 24,
      "outputs": []
    },
    {
      "cell_type": "code",
      "source": [
        "path = os.path.abspath('.cnn.py')"
      ],
      "metadata": {
        "id": "vJkehwgTgNoI"
      },
      "execution_count": 25,
      "outputs": []
    },
    {
      "cell_type": "code",
      "source": [
        "path = re.sub('[a-zA-Z\\s._]+$', '', path) #remove unintended file"
      ],
      "metadata": {
        "id": "gFMreXU6gO2W"
      },
      "execution_count": 26,
      "outputs": []
    },
    {
      "cell_type": "code",
      "source": [
        "print(path)"
      ],
      "metadata": {
        "colab": {
          "base_uri": "https://localhost:8080/"
        },
        "id": "3vaHsclbgCsf",
        "outputId": "330511c1-5a9d-4d03-94fa-d682eabcf9bd"
      },
      "execution_count": 27,
      "outputs": [
        {
          "output_type": "stream",
          "name": "stdout",
          "text": [
            "/content/\n"
          ]
        }
      ]
    },
    {
      "cell_type": "code",
      "source": [
        "dirs = os.listdir(path+'/drive/MyDrive/Images/')"
      ],
      "metadata": {
        "id": "l7c3r7_lsmzE"
      },
      "execution_count": 28,
      "outputs": []
    },
    {
      "cell_type": "code",
      "source": [
        "img_rows = 256\n",
        "img_cols = 256\n",
        "num_class = 21\n",
        "path = os.path.abspath('.cnn.py') #absolute path of program\n",
        "path = re.sub('[a-zA-Z\\s._]+$', '', path) #remove unintended file\n",
        "x_train = []\n",
        "y_train = []\n",
        "x_test = []\n",
        "y_test = []\n",
        "dirs = os.listdir(path+'/drive/My Drive/Images/')\n",
        "dirs=dirs[:-1]\n",
        "print(len(dirs))\n",
        "'''\n",
        "\n",
        "'''"
      ],
      "metadata": {
        "colab": {
          "base_uri": "https://localhost:8080/",
          "height": 53
        },
        "id": "E0AcH_fksxPr",
        "outputId": "14bc4dbd-3e94-447e-d014-66fec67690af"
      },
      "execution_count": 29,
      "outputs": [
        {
          "output_type": "stream",
          "name": "stdout",
          "text": [
            "20\n"
          ]
        },
        {
          "output_type": "execute_result",
          "data": {
            "text/plain": [
              "'\\n\\n'"
            ],
            "application/vnd.google.colaboratory.intrinsic+json": {
              "type": "string"
            }
          },
          "metadata": {},
          "execution_count": 29
        }
      ]
    },
    {
      "cell_type": "code",
      "source": [
        "label = 0\n",
        "for i in dirs:\n",
        "\tn = 0\n",
        "\tcount = 0\n",
        "\tfor pic in glob.glob(path+'/drive/My Drive/Images/'+i+'/*.tif'):\n",
        "\t\tim = Image.open(pic)\n",
        "\t\tim = np.array(im)\n",
        "\t\tif((im.shape[0]==256) and (im.shape[1] ==256) and count <90): #get only 90 data\n",
        "\t\t\tr = im[:,:,0]\n",
        "\t\t\tg = im[:,:,1]\n",
        "\t\t\tb = im[:,:,2]\n",
        "\t\t\tif(n<5): # 5 data in beginning set as test data\n",
        "\t\t\t\tx_test.append([r,g,b])\n",
        "\t\t\t\ty_test.append([label])\n",
        "\t\t\telse: #remaining data set as training data\n",
        "\t\t\t\tx_train.append([r,g,b])\n",
        "\t\t\t\ty_train.append([label])\n",
        "\t\t\tn = n + 1\n",
        "\t\t\tcount = count + 1\n",
        "\t\t#print(count)\n",
        "\tlabel = label + 1"
      ],
      "metadata": {
        "id": "ld2eH60ks-3V"
      },
      "execution_count": 30,
      "outputs": []
    },
    {
      "cell_type": "code",
      "source": [
        "x_trainbck=x_train\n",
        "x_testbck=x_test"
      ],
      "metadata": {
        "id": "zQU2-xyrtFyr"
      },
      "execution_count": 31,
      "outputs": []
    },
    {
      "cell_type": "code",
      "source": [
        "x_train=np.array(x_train)\n",
        "x_test=np.array(x_test)\n"
      ],
      "metadata": {
        "id": "0Z8lP15StK5j"
      },
      "execution_count": 32,
      "outputs": []
    },
    {
      "cell_type": "code",
      "source": [
        "x_train = x_train.reshape(x_train.shape[0], img_rows, img_cols, 3)\n",
        "x_test = x_test.reshape(x_test.shape[0], img_rows, img_cols, 3)\n",
        "\n",
        "input_shape = (img_rows, img_cols, 3)\n",
        "\n",
        "x_train = x_train.astype('float32')\n",
        "x_test = x_test.astype('float32')\n",
        "x_train /= 255\n",
        "x_test /= 255\n",
        "y_train = keras.utils.np_utils.to_categorical(y_train, 21)\n",
        "y_test = keras.utils.np_utils.to_categorical(y_test, 21)\n"
      ],
      "metadata": {
        "id": "QvTEqtcutNoE"
      },
      "execution_count": 33,
      "outputs": []
    },
    {
      "cell_type": "code",
      "source": [
        "from keras.models import Sequential\n",
        "from keras.layers import Conv2D, MaxPooling2D\n",
        "from keras.layers import Activation, Flatten, Dense, Dropout\n",
        "from keras.preprocessing.image import ImageDataGenerator\n",
        "import time\n",
        "IMG_SIZE =256 # Replace with the size of your images\n",
        "NB_CHANNELS =3 # 3 for RGB images or 1 for grayscale images\n",
        "BATCH_SIZE = 32# Typical values are 8, 16 or 32\n",
        "NB_TRAIN_IMG = 1688 # Replace with the total number training images\n",
        "NB_VALID_IMG = 421 # Replace with the total number validation images"
      ],
      "metadata": {
        "id": "-piJ7qfSuUhR"
      },
      "execution_count": 34,
      "outputs": []
    },
    {
      "cell_type": "code",
      "source": [
        "!pip install  split_folders"
      ],
      "metadata": {
        "id": "vZqsnmKa8L00"
      },
      "execution_count": null,
      "outputs": []
    },
    {
      "cell_type": "code",
      "source": [
        "import splitfolders\n",
        "splitfolders.ratio(path+'/drive/My Drive/Images/', output=path+'/drive/My Drive/output/', seed=1337, ratio=(."
      ],
      "metadata": {
        "id": "3kxLGtmF8OLu"
      },
      "execution_count": null,
      "outputs": []
    },
    {
      "cell_type": "code",
      "source": [
        "model = Sequential()\n",
        "model.add(Conv2D(32, kernel_size=(3, 3),activation='relu',input_shape=(IMG_SIZE,IMG_SIZE,NB_CHANNELS),\n",
        "               data_format='channels_last'))\n",
        "model.add(MaxPooling2D(pool_size=(2,2)))\n",
        "model.add(Conv2D(32, (3, 3), activation='relu'))\n",
        "model.add(MaxPooling2D(pool_size=(2,2)))\n",
        "model.add(Dropout(0.25))\n",
        "model.add(Flatten())\n",
        "model.add(Dense(128, activation='relu'))\n",
        "model.add(Dropout(0.5))\n",
        "model.add(Dense(21, activation='softmax'))\n",
        "model.compile(loss='categorical_crossentropy',\n",
        "            optimizer='adam',\n",
        "            metrics=['accuracy'])"
      ],
      "metadata": {
        "id": "iOdfk0JVuikp"
      },
      "execution_count": 35,
      "outputs": []
    },
    {
      "cell_type": "code",
      "source": [
        "train_datagen = ImageDataGenerator(\n",
        "    rotation_range = 40,                  \n",
        "    width_shift_range = 0.2,                  \n",
        "    height_shift_range = 0.2,                  \n",
        "    rescale = 1./255,                  \n",
        "    shear_range = 0.2,                  \n",
        "    zoom_range = 0.2,                     \n",
        "    horizontal_flip = True)\n",
        "validation_datagen = ImageDataGenerator(rescale = 1./255)\n",
        "train_generator = train_datagen.flow_from_directory(\n",
        "    path+'/drive/My Drive/output/train',\n",
        "    target_size=(IMG_SIZE,IMG_SIZE),\n",
        "    class_mode='categorical',\n",
        "    batch_size = BATCH_SIZE)\n",
        "validation_generator = validation_datagen.flow_from_directory(\n",
        "    path+'/drive/My Drive/output/val',\n",
        "    target_size=(IMG_SIZE,IMG_SIZE),\n",
        "    class_mode='categorical',\n",
        "    batch_size = BATCH_SIZE)"
      ],
      "metadata": {
        "colab": {
          "base_uri": "https://localhost:8080/"
        },
        "id": "4-UsJ5ZCunE6",
        "outputId": "647dcd0c-823b-4512-a6f4-ed31669d334a"
      },
      "execution_count": 36,
      "outputs": [
        {
          "output_type": "stream",
          "name": "stdout",
          "text": [
            "Found 1688 images belonging to 21 classes.\n",
            "Found 421 images belonging to 21 classes.\n"
          ]
        }
      ]
    },
    {
      "cell_type": "code",
      "source": [
        "start = time.time()\n",
        "h = model.fit_generator(\n",
        "    train_generator,\n",
        "    steps_per_epoch=NB_TRAIN_IMG//BATCH_SIZE,\n",
        "    epochs=50,\n",
        "    validation_data=validation_generator,\n",
        "    validation_steps=NB_VALID_IMG//BATCH_SIZE)\n",
        "end = time.time()\n",
        "print('Processing time:',(end - start)/60)\n",
        "model.save_weights('cnn_baseline.h5')"
      ],
      "metadata": {
        "colab": {
          "base_uri": "https://localhost:8080/"
        },
        "id": "hKSffxZUutxb",
        "outputId": "f6661aed-1614-4c07-9e78-2e2f139461ee"
      },
      "execution_count": 37,
      "outputs": [
        {
          "output_type": "stream",
          "name": "stderr",
          "text": [
            "/usr/local/lib/python3.7/dist-packages/ipykernel_launcher.py:7: UserWarning: `Model.fit_generator` is deprecated and will be removed in a future version. Please use `Model.fit`, which supports generators.\n",
            "  import sys\n"
          ]
        },
        {
          "output_type": "stream",
          "name": "stdout",
          "text": [
            "Epoch 1/50\n",
            "52/52 [==============================] - 29s 540ms/step - loss: 3.7048 - accuracy: 0.0562 - val_loss: 3.0303 - val_accuracy: 0.0625\n",
            "Epoch 2/50\n",
            "52/52 [==============================] - 28s 542ms/step - loss: 2.9654 - accuracy: 0.0773 - val_loss: 2.8948 - val_accuracy: 0.1250\n",
            "Epoch 3/50\n",
            "52/52 [==============================] - 27s 528ms/step - loss: 2.9146 - accuracy: 0.1021 - val_loss: 2.8344 - val_accuracy: 0.1851\n",
            "Epoch 4/50\n",
            "52/52 [==============================] - 27s 526ms/step - loss: 2.8140 - accuracy: 0.1304 - val_loss: 2.7196 - val_accuracy: 0.1635\n",
            "Epoch 5/50\n",
            "52/52 [==============================] - 27s 528ms/step - loss: 2.7585 - accuracy: 0.1624 - val_loss: 2.5715 - val_accuracy: 0.2404\n",
            "Epoch 6/50\n",
            "52/52 [==============================] - 29s 552ms/step - loss: 2.6965 - accuracy: 0.1775 - val_loss: 2.5151 - val_accuracy: 0.2764\n",
            "Epoch 7/50\n",
            "52/52 [==============================] - 27s 528ms/step - loss: 2.5564 - accuracy: 0.2059 - val_loss: 2.3184 - val_accuracy: 0.3269\n",
            "Epoch 8/50\n",
            "52/52 [==============================] - 27s 525ms/step - loss: 2.4896 - accuracy: 0.2295 - val_loss: 2.2846 - val_accuracy: 0.3486\n",
            "Epoch 9/50\n",
            "52/52 [==============================] - 27s 526ms/step - loss: 2.4060 - accuracy: 0.2518 - val_loss: 2.3136 - val_accuracy: 0.3101\n",
            "Epoch 10/50\n",
            "52/52 [==============================] - 27s 524ms/step - loss: 2.3509 - accuracy: 0.2723 - val_loss: 2.1697 - val_accuracy: 0.3630\n",
            "Epoch 11/50\n",
            "52/52 [==============================] - 27s 527ms/step - loss: 2.3172 - accuracy: 0.2711 - val_loss: 2.2073 - val_accuracy: 0.3221\n",
            "Epoch 12/50\n",
            "52/52 [==============================] - 28s 538ms/step - loss: 2.2953 - accuracy: 0.2717 - val_loss: 2.0802 - val_accuracy: 0.3798\n",
            "Epoch 13/50\n",
            "52/52 [==============================] - 27s 526ms/step - loss: 2.2361 - accuracy: 0.2989 - val_loss: 2.0861 - val_accuracy: 0.3750\n",
            "Epoch 14/50\n",
            "52/52 [==============================] - 27s 524ms/step - loss: 2.1856 - accuracy: 0.3188 - val_loss: 1.9899 - val_accuracy: 0.3798\n",
            "Epoch 15/50\n",
            "52/52 [==============================] - 28s 542ms/step - loss: 2.1378 - accuracy: 0.3225 - val_loss: 2.0192 - val_accuracy: 0.3726\n",
            "Epoch 16/50\n",
            "52/52 [==============================] - 27s 522ms/step - loss: 2.1694 - accuracy: 0.3110 - val_loss: 1.8976 - val_accuracy: 0.4303\n",
            "Epoch 17/50\n",
            "52/52 [==============================] - 27s 523ms/step - loss: 2.0737 - accuracy: 0.3418 - val_loss: 1.9294 - val_accuracy: 0.4519\n",
            "Epoch 18/50\n",
            "52/52 [==============================] - 27s 527ms/step - loss: 2.0507 - accuracy: 0.3665 - val_loss: 1.8788 - val_accuracy: 0.4399\n",
            "Epoch 19/50\n",
            "52/52 [==============================] - 27s 525ms/step - loss: 2.0266 - accuracy: 0.3406 - val_loss: 1.7695 - val_accuracy: 0.4760\n",
            "Epoch 20/50\n",
            "52/52 [==============================] - 27s 522ms/step - loss: 2.0454 - accuracy: 0.3466 - val_loss: 1.8199 - val_accuracy: 0.4447\n",
            "Epoch 21/50\n",
            "52/52 [==============================] - 27s 521ms/step - loss: 2.0652 - accuracy: 0.3436 - val_loss: 1.9450 - val_accuracy: 0.3846\n",
            "Epoch 22/50\n",
            "52/52 [==============================] - 28s 538ms/step - loss: 2.0124 - accuracy: 0.3545 - val_loss: 1.7693 - val_accuracy: 0.4639\n",
            "Epoch 23/50\n",
            "52/52 [==============================] - 27s 522ms/step - loss: 1.9242 - accuracy: 0.3889 - val_loss: 1.7747 - val_accuracy: 0.4639\n",
            "Epoch 24/50\n",
            "52/52 [==============================] - 27s 522ms/step - loss: 1.9222 - accuracy: 0.3744 - val_loss: 1.6765 - val_accuracy: 0.5120\n",
            "Epoch 25/50\n",
            "52/52 [==============================] - 29s 549ms/step - loss: 1.9249 - accuracy: 0.3901 - val_loss: 1.6355 - val_accuracy: 0.5312\n",
            "Epoch 26/50\n",
            "52/52 [==============================] - 27s 528ms/step - loss: 1.8901 - accuracy: 0.3774 - val_loss: 1.6077 - val_accuracy: 0.5264\n",
            "Epoch 27/50\n",
            "52/52 [==============================] - 27s 528ms/step - loss: 1.8427 - accuracy: 0.4136 - val_loss: 1.5862 - val_accuracy: 0.5120\n",
            "Epoch 28/50\n",
            "52/52 [==============================] - 27s 526ms/step - loss: 1.8508 - accuracy: 0.3949 - val_loss: 1.6808 - val_accuracy: 0.5216\n",
            "Epoch 29/50\n",
            "52/52 [==============================] - 27s 525ms/step - loss: 1.8434 - accuracy: 0.3998 - val_loss: 1.7236 - val_accuracy: 0.4880\n",
            "Epoch 30/50\n",
            "52/52 [==============================] - 27s 525ms/step - loss: 1.8486 - accuracy: 0.4245 - val_loss: 1.5426 - val_accuracy: 0.5312\n",
            "Epoch 31/50\n",
            "52/52 [==============================] - 28s 542ms/step - loss: 1.8229 - accuracy: 0.4209 - val_loss: 1.6155 - val_accuracy: 0.5024\n",
            "Epoch 32/50\n",
            "52/52 [==============================] - 27s 522ms/step - loss: 1.7900 - accuracy: 0.4191 - val_loss: 1.5566 - val_accuracy: 0.5361\n",
            "Epoch 33/50\n",
            "52/52 [==============================] - 27s 522ms/step - loss: 1.8120 - accuracy: 0.4040 - val_loss: 1.6021 - val_accuracy: 0.5000\n",
            "Epoch 34/50\n",
            "52/52 [==============================] - 28s 545ms/step - loss: 1.7808 - accuracy: 0.4324 - val_loss: 1.5043 - val_accuracy: 0.5649\n",
            "Epoch 35/50\n",
            "52/52 [==============================] - 27s 523ms/step - loss: 1.7908 - accuracy: 0.4161 - val_loss: 1.5825 - val_accuracy: 0.5216\n",
            "Epoch 36/50\n",
            "52/52 [==============================] - 27s 520ms/step - loss: 1.7950 - accuracy: 0.4245 - val_loss: 1.4947 - val_accuracy: 0.5673\n",
            "Epoch 37/50\n",
            "52/52 [==============================] - 27s 525ms/step - loss: 1.7827 - accuracy: 0.4038 - val_loss: 1.5167 - val_accuracy: 0.5601\n",
            "Epoch 38/50\n",
            "52/52 [==============================] - 27s 521ms/step - loss: 1.7321 - accuracy: 0.4450 - val_loss: 1.4806 - val_accuracy: 0.5817\n",
            "Epoch 39/50\n",
            "52/52 [==============================] - 27s 520ms/step - loss: 1.7063 - accuracy: 0.4487 - val_loss: 1.4281 - val_accuracy: 0.5769\n",
            "Epoch 40/50\n",
            "52/52 [==============================] - 28s 533ms/step - loss: 1.7190 - accuracy: 0.4444 - val_loss: 1.4451 - val_accuracy: 0.5938\n",
            "Epoch 41/50\n",
            "52/52 [==============================] - 27s 519ms/step - loss: 1.7106 - accuracy: 0.4330 - val_loss: 1.4427 - val_accuracy: 0.5745\n",
            "Epoch 42/50\n",
            "52/52 [==============================] - 27s 523ms/step - loss: 1.7214 - accuracy: 0.4372 - val_loss: 1.5645 - val_accuracy: 0.5288\n",
            "Epoch 43/50\n",
            "52/52 [==============================] - 28s 546ms/step - loss: 1.6261 - accuracy: 0.4710 - val_loss: 1.4008 - val_accuracy: 0.5865\n",
            "Epoch 44/50\n",
            "52/52 [==============================] - 27s 519ms/step - loss: 1.7354 - accuracy: 0.4450 - val_loss: 1.5003 - val_accuracy: 0.5361\n",
            "Epoch 45/50\n",
            "52/52 [==============================] - 27s 519ms/step - loss: 1.6966 - accuracy: 0.4475 - val_loss: 1.3737 - val_accuracy: 0.6010\n",
            "Epoch 46/50\n",
            "52/52 [==============================] - 27s 520ms/step - loss: 1.6133 - accuracy: 0.4764 - val_loss: 1.3504 - val_accuracy: 0.5986\n",
            "Epoch 47/50\n",
            "52/52 [==============================] - 27s 521ms/step - loss: 1.6307 - accuracy: 0.4728 - val_loss: 1.3379 - val_accuracy: 0.6130\n",
            "Epoch 48/50\n",
            "52/52 [==============================] - 27s 520ms/step - loss: 1.6041 - accuracy: 0.4771 - val_loss: 1.4021 - val_accuracy: 0.5793\n",
            "Epoch 49/50\n",
            "52/52 [==============================] - 28s 533ms/step - loss: 1.6459 - accuracy: 0.4620 - val_loss: 1.4356 - val_accuracy: 0.5913\n",
            "Epoch 50/50\n",
            "52/52 [==============================] - 27s 521ms/step - loss: 1.6225 - accuracy: 0.4656 - val_loss: 1.3488 - val_accuracy: 0.5865\n",
            "Processing time: 27.21985153357188\n"
          ]
        }
      ]
    },
    {
      "cell_type": "code",
      "source": [
        "plt.figure(figsize=(15,5))\n",
        "plt.subplot(1,2,1)\n",
        "plt.plot(h.history['accuracy'], 'o-', label='train accuracy')\n",
        "plt.plot(h.history['val_accuracy'], 'o-', label = 'validation accuracy')\n",
        "plt.xlabel('Epoch')\n",
        "plt.ylabel('Accuracy')\n",
        "plt.grid(True)\n",
        "plt.legend(loc='lower right')\n",
        "\n",
        "plt.subplot(1,2,2)\n",
        "plt.plot(h.history['loss'], 'o-', label='train loss')\n",
        "plt.plot(h.history['val_loss'], 'o-', label='validation loss')\n",
        "plt.xlabel('Epoch')\n",
        "plt.ylabel('Loss')\n",
        "plt.grid(True)\n",
        "plt.legend(loc='upper right')\n",
        "\n",
        "plt.show()"
      ],
      "metadata": {
        "colab": {
          "base_uri": "https://localhost:8080/",
          "height": 334
        },
        "id": "OzdWsVZevRya",
        "outputId": "0c369440-a642-47ff-efec-889fa8a2b809"
      },
      "execution_count": 38,
      "outputs": [
        {
          "output_type": "display_data",
          "data": {
            "text/plain": [
              "<Figure size 1080x360 with 2 Axes>"
            ],
            "image/png": "[encoded data removed]"
          },
          "metadata": {
            "needs_background": "light"
          }
        }
      ]
    }
  ]
}