{
  "nbformat": 4,
  "nbformat_minor": 0,
  "metadata": {
    "colab": {
      "name": "Q1.ipynb",
      "provenance": [],
      "collapsed_sections": [],
      "include_colab_link": true
    },
    "kernelspec": {
      "name": "python3",
      "display_name": "Python 3"
    },
    "language_info": {
      "name": "python"
    }
  },
  "cells": [
    {
      "cell_type": "markdown",
      "metadata": {
        "id": "view-in-github",
        "colab_type": "text"
      },
      "source": [
        "<a href=\"https://colab.research.google.com/github/jakariaemon/ComputerVision/blob/main/Q1.ipynb\" target=\"_parent\"><img src=\"https://colab.research.google.com/assets/colab-badge.svg\" alt=\"Open In Colab\"/></a>"
      ]
    },
    {
      "cell_type": "markdown",
      "source": [
        "**Bubble Sort using list comprehension**"
      ],
      "metadata": {
        "id": "HCzfMYXqxsyI"
      }
    },
    {
      "cell_type": "code",
      "source": [
        "data = [2, 1, 5, 4, 3]\n",
        "def swap(i,j):\n",
        "    data[j], data[j + 1] = data[j + 1], data[j]\n",
        "    print(f\"i={i}  j={j} {data}\")\n",
        "def bubble_sort(x):\n",
        "    global data\n",
        "    data = x\n",
        "    [swap(i,j) for i in range(len(data)) for j in range(len(data) - 1) if data[j] > data[j + 1]]\n",
        "\n",
        "a_list = [2, 1, 5, 4, 3,10, 12, 20, 50, 25]\n",
        "\n",
        "bubble_sort(a_list)\n",
        "\n",
        "print(data)"
      ],
      "metadata": {
        "colab": {
          "base_uri": "https://localhost:8080/"
        },
        "id": "oVQWNtebsPcA",
        "outputId": "3e50bb2c-ebbc-415b-cf2b-db51b5f75854"
      },
      "execution_count": 8,
      "outputs": [
        {
          "output_type": "stream",
          "name": "stdout",
          "text": [
            "i=0  j=0 [1, 2, 5, 4, 3, 10, 12, 20, 50, 25]\n",
            "i=0  j=2 [1, 2, 4, 5, 3, 10, 12, 20, 50, 25]\n",
            "i=0  j=3 [1, 2, 4, 3, 5, 10, 12, 20, 50, 25]\n",
            "i=0  j=8 [1, 2, 4, 3, 5, 10, 12, 20, 25, 50]\n",
            "i=1  j=2 [1, 2, 3, 4, 5, 10, 12, 20, 25, 50]\n",
            "[1, 2, 3, 4, 5, 10, 12, 20, 25, 50]\n"
          ]
        }
      ]
    },
    {
      "cell_type": "markdown",
      "source": [
        "**Quick Sort Using recursion**"
      ],
      "metadata": {
        "id": "mMvbURZExrO3"
      }
    },
    {
      "cell_type": "code",
      "execution_count": 9,
      "metadata": {
        "colab": {
          "base_uri": "https://localhost:8080/"
        },
        "id": "YLPvIwjvstK3",
        "outputId": "1eb2f13a-1abf-4857-e7cb-edd4fe4311b9"
      },
      "outputs": [
        {
          "output_type": "stream",
          "name": "stdout",
          "text": [
            "[2, 1, 5, 4, 3, 10, 12, 20, 50, 25] 2 is pivot [1] and [5, 4, 3, 10, 12, 20, 50, 25] should be sorted\n",
            "[1] 1 is pivot [] and [] should be sorted\n",
            "NEW [1]\n",
            "[5, 4, 3, 10, 12, 20, 50, 25] 5 is pivot [4, 3] and [10, 12, 20, 50, 25] should be sorted\n",
            "[4, 3] 4 is pivot [3] and [] should be sorted\n",
            "[3] 3 is pivot [] and [] should be sorted\n",
            "NEW [3]\n",
            "NEW [3, 4]\n",
            "[10, 12, 20, 50, 25] 10 is pivot [] and [12, 20, 50, 25] should be sorted\n",
            "[12, 20, 50, 25] 12 is pivot [] and [20, 50, 25] should be sorted\n",
            "[20, 50, 25] 20 is pivot [] and [50, 25] should be sorted\n",
            "[50, 25] 50 is pivot [25] and [] should be sorted\n",
            "[25] 25 is pivot [] and [] should be sorted\n",
            "NEW [25]\n",
            "NEW [25, 50]\n",
            "NEW [20, 25, 50]\n",
            "NEW [12, 20, 25, 50]\n",
            "NEW [10, 12, 20, 25, 50]\n",
            "NEW [3, 4, 5, 10, 12, 20, 25, 50]\n",
            "NEW [1, 2, 3, 4, 5, 10, 12, 20, 25, 50]\n"
          ]
        },
        {
          "output_type": "execute_result",
          "data": {
            "text/plain": [
              "[1, 2, 3, 4, 5, 10, 12, 20, 25, 50]"
            ]
          },
          "metadata": {},
          "execution_count": 9
        }
      ],
      "source": [
        "def quick_sort(lst):\n",
        "    if lst == []:   return []\n",
        "    pivot = lst[0]\n",
        "    left = [x for x in lst[1:] if x < pivot]\n",
        "    right = [x for x in lst[1:] if x > pivot]\n",
        "    print(lst, pivot, \"is pivot\", left, \"and\", right, \"should be sorted\")\n",
        "    new_list = quick_sort(left) + [pivot] + quick_sort(right)\n",
        "    print(\"NEW\", new_list)\n",
        "    return new_list\n",
        "\n",
        "quick_sort([2, 1, 5, 4, 3,10, 12, 20, 50, 25])"
      ]
    }
  ]
}