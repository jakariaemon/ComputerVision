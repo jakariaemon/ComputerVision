{
 "cells": [
  {
   "cell_type": "code",
   "execution_count": 1,
   "id": "af753472-4f2c-4030-8de9-9f7a2035016b",
   "metadata": {},
   "outputs": [
    {
     "name": "stdout",
     "output_type": "stream",
     "text": [
      "Found 3747 images belonging to 3 classes.\n",
      "Found 935 images belonging to 3 classes.\n"
     ]
    }
   ],
   "source": [
    "import tensorflow as tf\n",
    "from tensorflow.keras.preprocessing.image import ImageDataGenerator\n",
    "\n",
    "# Set up directories\n",
    "base_dir = \"bengali_digits\"\n",
    "train_dir = base_dir\n",
    "\n",
    "# Using ImageDataGenerator to read images from directories\n",
    "train_datagen = ImageDataGenerator(rescale=1./255, validation_split=0.2)  # Normalize and split data\n",
    "\n",
    "train_generator = train_datagen.flow_from_directory(\n",
    "    train_dir,\n",
    "    target_size=(150, 150),  # Resize images to 150x150\n",
    "    batch_size=20,\n",
    "    class_mode='categorical',\n",
    "    subset='training'\n",
    ")\n",
    "\n",
    "validation_generator = train_datagen.flow_from_directory(\n",
    "    train_dir,\n",
    "    target_size=(150, 150),\n",
    "    batch_size=20,\n",
    "    class_mode='categorical',\n",
    "    subset='validation'\n",
    ")\n"
   ]
  },
  {
   "cell_type": "code",
   "execution_count": 2,
   "id": "3a588846-7f7d-4afe-a649-ca49357ef8f3",
   "metadata": {},
   "outputs": [],
   "source": [
    "model = tf.keras.models.Sequential([\n",
    "    tf.keras.layers.Conv2D(32, (3, 3), activation='relu', input_shape=(150, 150, 3)),\n",
    "    tf.keras.layers.MaxPooling2D(2, 2),\n",
    "    tf.keras.layers.Conv2D(64, (3, 3), activation='relu'),\n",
    "    tf.keras.layers.MaxPooling2D(2, 2),\n",
    "    tf.keras.layers.Conv2D(128, (3, 3), activation='relu'),\n",
    "    tf.keras.layers.MaxPooling2D(2, 2),\n",
    "    tf.keras.layers.Flatten(),\n",
    "    tf.keras.layers.Dense(512, activation='relu'),\n",
    "    tf.keras.layers.Dense(3, activation='softmax')  # 3 digits\n",
    "])"
   ]
  },
  {
   "cell_type": "code",
   "execution_count": 7,
   "id": "373ca7ea-40f2-4097-a343-98f877688c42",
   "metadata": {},
   "outputs": [],
   "source": [
    "steps_per_epoch = len(train_generator)  \n",
    "validation_steps = len(validation_generator)"
   ]
  },
  {
   "cell_type": "code",
   "execution_count": 8,
   "id": "f264b8bf-faa6-4c8d-b341-12c58790f4cb",
   "metadata": {},
   "outputs": [
    {
     "name": "stdout",
     "output_type": "stream",
     "text": [
      "Epoch 1/50\n",
      "188/188 [==============================] - 8s 39ms/step - loss: 0.0127 - accuracy: 0.9973 - val_loss: 0.1498 - val_accuracy: 0.9786\n",
      "Epoch 2/50\n",
      "188/188 [==============================] - 7s 36ms/step - loss: 0.0158 - accuracy: 0.9957 - val_loss: 0.1031 - val_accuracy: 0.9818\n",
      "Epoch 3/50\n",
      "188/188 [==============================] - 7s 35ms/step - loss: 0.0038 - accuracy: 0.9984 - val_loss: 0.2149 - val_accuracy: 0.9722\n",
      "Epoch 4/50\n",
      "188/188 [==============================] - 7s 35ms/step - loss: 0.0095 - accuracy: 0.9976 - val_loss: 0.1087 - val_accuracy: 0.9775\n",
      "Epoch 5/50\n",
      "188/188 [==============================] - 7s 36ms/step - loss: 0.0120 - accuracy: 0.9968 - val_loss: 0.3072 - val_accuracy: 0.9711\n",
      "Epoch 6/50\n",
      "188/188 [==============================] - 7s 35ms/step - loss: 0.0178 - accuracy: 0.9957 - val_loss: 0.0812 - val_accuracy: 0.9797\n",
      "Epoch 7/50\n",
      "188/188 [==============================] - 7s 35ms/step - loss: 0.0055 - accuracy: 0.9989 - val_loss: 0.0564 - val_accuracy: 0.9840\n",
      "Epoch 8/50\n",
      "188/188 [==============================] - 7s 35ms/step - loss: 0.0022 - accuracy: 0.9995 - val_loss: 0.0599 - val_accuracy: 0.9893\n",
      "Epoch 9/50\n",
      "188/188 [==============================] - 6s 34ms/step - loss: 4.4591e-05 - accuracy: 1.0000 - val_loss: 0.0615 - val_accuracy: 0.9872\n",
      "Epoch 10/50\n",
      "188/188 [==============================] - 6s 34ms/step - loss: 1.6731e-05 - accuracy: 1.0000 - val_loss: 0.0628 - val_accuracy: 0.9872\n",
      "Epoch 11/50\n",
      "188/188 [==============================] - 7s 35ms/step - loss: 1.1674e-05 - accuracy: 1.0000 - val_loss: 0.0637 - val_accuracy: 0.9872\n",
      "Epoch 12/50\n",
      "188/188 [==============================] - 7s 36ms/step - loss: 8.7965e-06 - accuracy: 1.0000 - val_loss: 0.0644 - val_accuracy: 0.9872\n",
      "Epoch 13/50\n",
      "188/188 [==============================] - 7s 35ms/step - loss: 6.7383e-06 - accuracy: 1.0000 - val_loss: 0.0651 - val_accuracy: 0.9872\n",
      "Epoch 14/50\n",
      "188/188 [==============================] - 7s 35ms/step - loss: 5.2914e-06 - accuracy: 1.0000 - val_loss: 0.0657 - val_accuracy: 0.9872\n",
      "Epoch 15/50\n",
      "188/188 [==============================] - 7s 35ms/step - loss: 4.2135e-06 - accuracy: 1.0000 - val_loss: 0.0661 - val_accuracy: 0.9872\n",
      "Epoch 16/50\n",
      "188/188 [==============================] - 7s 35ms/step - loss: 3.1594e-06 - accuracy: 1.0000 - val_loss: 0.0667 - val_accuracy: 0.9882\n",
      "Epoch 17/50\n",
      "188/188 [==============================] - 7s 35ms/step - loss: 2.4783e-06 - accuracy: 1.0000 - val_loss: 0.0673 - val_accuracy: 0.9882\n",
      "Epoch 18/50\n",
      "188/188 [==============================] - 7s 35ms/step - loss: 1.9780e-06 - accuracy: 1.0000 - val_loss: 0.0674 - val_accuracy: 0.9882\n",
      "Epoch 19/50\n",
      "188/188 [==============================] - 7s 35ms/step - loss: 1.6350e-06 - accuracy: 1.0000 - val_loss: 0.0678 - val_accuracy: 0.9882\n",
      "Epoch 20/50\n",
      "188/188 [==============================] - 7s 35ms/step - loss: 1.3725e-06 - accuracy: 1.0000 - val_loss: 0.0678 - val_accuracy: 0.9882\n",
      "Epoch 21/50\n",
      "188/188 [==============================] - 7s 37ms/step - loss: 1.1654e-06 - accuracy: 1.0000 - val_loss: 0.0684 - val_accuracy: 0.9882\n",
      "Epoch 22/50\n",
      "188/188 [==============================] - 7s 35ms/step - loss: 1.0019e-06 - accuracy: 1.0000 - val_loss: 0.0685 - val_accuracy: 0.9882\n",
      "Epoch 23/50\n",
      "188/188 [==============================] - 6s 34ms/step - loss: 8.6491e-07 - accuracy: 1.0000 - val_loss: 0.0690 - val_accuracy: 0.9882\n",
      "Epoch 24/50\n",
      "188/188 [==============================] - 6s 34ms/step - loss: 7.5350e-07 - accuracy: 1.0000 - val_loss: 0.0689 - val_accuracy: 0.9882\n",
      "Epoch 25/50\n",
      "188/188 [==============================] - 6s 34ms/step - loss: 6.5997e-07 - accuracy: 1.0000 - val_loss: 0.0689 - val_accuracy: 0.9882\n",
      "Epoch 26/50\n",
      "188/188 [==============================] - 6s 34ms/step - loss: 5.7999e-07 - accuracy: 1.0000 - val_loss: 0.0690 - val_accuracy: 0.9882\n",
      "Epoch 27/50\n",
      "188/188 [==============================] - 6s 34ms/step - loss: 5.1090e-07 - accuracy: 1.0000 - val_loss: 0.0693 - val_accuracy: 0.9893\n",
      "Epoch 28/50\n",
      "188/188 [==============================] - 7s 35ms/step - loss: 4.5246e-07 - accuracy: 1.0000 - val_loss: 0.0693 - val_accuracy: 0.9893\n",
      "Epoch 29/50\n",
      "188/188 [==============================] - 6s 34ms/step - loss: 4.0095e-07 - accuracy: 1.0000 - val_loss: 0.0694 - val_accuracy: 0.9893\n",
      "Epoch 30/50\n",
      "188/188 [==============================] - 6s 34ms/step - loss: 3.5565e-07 - accuracy: 1.0000 - val_loss: 0.0697 - val_accuracy: 0.9893\n",
      "Epoch 31/50\n",
      "188/188 [==============================] - 7s 35ms/step - loss: 3.1700e-07 - accuracy: 1.0000 - val_loss: 0.0697 - val_accuracy: 0.9893\n",
      "Epoch 32/50\n",
      "188/188 [==============================] - 7s 36ms/step - loss: 2.8225e-07 - accuracy: 1.0000 - val_loss: 0.0700 - val_accuracy: 0.9893\n",
      "Epoch 33/50\n",
      "188/188 [==============================] - 7s 36ms/step - loss: 2.5289e-07 - accuracy: 1.0000 - val_loss: 0.0701 - val_accuracy: 0.9893\n",
      "Epoch 34/50\n",
      "188/188 [==============================] - 7s 36ms/step - loss: 2.2633e-07 - accuracy: 1.0000 - val_loss: 0.0703 - val_accuracy: 0.9893\n",
      "Epoch 35/50\n",
      "188/188 [==============================] - 7s 36ms/step - loss: 2.0304e-07 - accuracy: 1.0000 - val_loss: 0.0704 - val_accuracy: 0.9893\n",
      "Epoch 36/50\n",
      "188/188 [==============================] - 7s 36ms/step - loss: 1.8277e-07 - accuracy: 1.0000 - val_loss: 0.0706 - val_accuracy: 0.9893\n",
      "Epoch 37/50\n",
      "188/188 [==============================] - 7s 36ms/step - loss: 1.6458e-07 - accuracy: 1.0000 - val_loss: 0.0707 - val_accuracy: 0.9893\n",
      "Epoch 38/50\n",
      "188/188 [==============================] - 7s 36ms/step - loss: 1.4790e-07 - accuracy: 1.0000 - val_loss: 0.0709 - val_accuracy: 0.9893\n",
      "Epoch 39/50\n",
      "188/188 [==============================] - 7s 36ms/step - loss: 1.3365e-07 - accuracy: 1.0000 - val_loss: 0.0710 - val_accuracy: 0.9893\n",
      "Epoch 40/50\n",
      "188/188 [==============================] - 7s 36ms/step - loss: 1.2061e-07 - accuracy: 1.0000 - val_loss: 0.0712 - val_accuracy: 0.9893\n",
      "Epoch 41/50\n",
      "188/188 [==============================] - 7s 36ms/step - loss: 1.0874e-07 - accuracy: 1.0000 - val_loss: 0.0714 - val_accuracy: 0.9893\n",
      "Epoch 42/50\n",
      "188/188 [==============================] - 7s 36ms/step - loss: 9.8275e-08 - accuracy: 1.0000 - val_loss: 0.0715 - val_accuracy: 0.9893\n",
      "Epoch 43/50\n",
      "188/188 [==============================] - 7s 36ms/step - loss: 8.9049e-08 - accuracy: 1.0000 - val_loss: 0.0717 - val_accuracy: 0.9893\n",
      "Epoch 44/50\n",
      "188/188 [==============================] - 7s 35ms/step - loss: 8.0968e-08 - accuracy: 1.0000 - val_loss: 0.0719 - val_accuracy: 0.9893\n",
      "Epoch 45/50\n",
      "188/188 [==============================] - 7s 35ms/step - loss: 7.3141e-08 - accuracy: 1.0000 - val_loss: 0.0720 - val_accuracy: 0.9893\n",
      "Epoch 46/50\n",
      "188/188 [==============================] - 7s 35ms/step - loss: 6.6270e-08 - accuracy: 1.0000 - val_loss: 0.0722 - val_accuracy: 0.9893\n",
      "Epoch 47/50\n",
      "188/188 [==============================] - 7s 35ms/step - loss: 6.0098e-08 - accuracy: 1.0000 - val_loss: 0.0724 - val_accuracy: 0.9893\n",
      "Epoch 48/50\n",
      "188/188 [==============================] - 7s 37ms/step - loss: 5.4244e-08 - accuracy: 1.0000 - val_loss: 0.0725 - val_accuracy: 0.9893\n",
      "Epoch 49/50\n",
      "188/188 [==============================] - 7s 35ms/step - loss: 4.9599e-08 - accuracy: 1.0000 - val_loss: 0.0728 - val_accuracy: 0.9893\n",
      "Epoch 50/50\n",
      "188/188 [==============================] - 7s 35ms/step - loss: 4.5018e-08 - accuracy: 1.0000 - val_loss: 0.0729 - val_accuracy: 0.9893\n"
     ]
    }
   ],
   "source": [
    "model.compile(loss='categorical_crossentropy', optimizer='adam', metrics=['accuracy'])\n",
    "\n",
    "history = model.fit(\n",
    "    train_generator,\n",
    "    steps_per_epoch=steps_per_epoch,\n",
    "    epochs=50,\n",
    "    validation_data=validation_generator,\n",
    "    validation_steps=validation_steps\n",
    ")\n",
    "\n",
    "\n",
    "\n"
   ]
  },
  {
   "cell_type": "code",
   "execution_count": 9,
   "id": "5e105cc0-20ac-4b72-9e03-8c7c72e456de",
   "metadata": {},
   "outputs": [
    {
     "name": "stdout",
     "output_type": "stream",
     "text": [
      "47/47 [==============================] - 1s 22ms/step - loss: 0.0729 - accuracy: 0.9893\n",
      "Validation Accuracy: 98.93%\n"
     ]
    }
   ],
   "source": [
    "val_loss, val_acc = model.evaluate(validation_generator)\n",
    "print(f\"Validation Accuracy: {val_acc * 100:.2f}%\")\n"
   ]
  },
  {
   "cell_type": "code",
   "execution_count": 17,
   "id": "eaca270b-4958-4a94-8a7e-a993ce2e1746",
   "metadata": {},
   "outputs": [],
   "source": [
    "model.save(\"digit_classify.keras\")"
   ]
  },
  {
   "cell_type": "code",
   "execution_count": 19,
   "id": "23f49b92-0a25-465e-885e-31f18a83ad22",
   "metadata": {},
   "outputs": [
    {
     "name": "stdout",
     "output_type": "stream",
     "text": [
      "1/1 [==============================] - 0s 94ms/step\n",
      "[[3.1908184e-13 7.2966579e-09 1.0000000e+00]]\n"
     ]
    },
    {
     "data": {
      "text/plain": [
       "True"
      ]
     },
     "execution_count": 19,
     "metadata": {},
     "output_type": "execute_result"
    }
   ],
   "source": [
    "import numpy as np\n",
    "from tensorflow.keras.preprocessing import image\n",
    "import cv2\n",
    "from tensorflow.keras.models import load_model\n",
    "loaded_model = load_model(\"digit_classify.keras\")\n",
    "\n",
    "class_map = {\n",
    "    0: 'zero',\n",
    "    1: 'one',\n",
    "    2: 'two'\n",
    "}\n",
    "\n",
    "img_path = 'test1.png'\n",
    "img = image.load_img(img_path, target_size=(150, 150))\n",
    "img_array = image.img_to_array(img)\n",
    "img_array_norm = np.expand_dims(img_array, axis=0) / 255.0  # Normalize\n",
    "predictions = loaded_model.predict(img_array_norm)\n",
    "print(predictions)\n",
    "predicted_class = np.argmax(predictions[0])\n",
    "predicted_label = class_map[predicted_class]\n",
    "img_array_bgr = cv2.cvtColor(img_array, cv2.COLOR_RGB2BGR)  # Convert to BGR for OpenCV\n",
    "font = cv2.FONT_HERSHEY_SIMPLEX\n",
    "cv2.putText(img_array_bgr, predicted_label, (10, 30), font, 1, (0, 0, 255), 2, cv2.LINE_AA)\n",
    "output_path = 'testpredict.jpeg'  # Replace with where you want to save the image\n",
    "cv2.imwrite(output_path, img_array_bgr)"
   ]
  },
  {
   "cell_type": "code",
   "execution_count": null,
   "id": "f64f4366-3c79-4a5d-b5ca-f94400b48b1b",
   "metadata": {},
   "outputs": [],
   "source": []
  }
 ],
 "metadata": {
  "kernelspec": {
   "display_name": "Python 3 (ipykernel)",
   "language": "python",
   "name": "python3"
  },
  "language_info": {
   "codemirror_mode": {
    "name": "ipython",
    "version": 3
   },
   "file_extension": ".py",
   "mimetype": "text/x-python",
   "name": "python",
   "nbconvert_exporter": "python",
   "pygments_lexer": "ipython3",
   "version": "3.9.13"
  }
 },
 "nbformat": 4,
 "nbformat_minor": 5
}
